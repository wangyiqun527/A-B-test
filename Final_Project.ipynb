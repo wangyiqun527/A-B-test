{
 "cells": [
  {
   "cell_type": "markdown",
   "id": "0610ef89",
   "metadata": {},
   "source": [
    "# 1. Final Project Instructions\n",
    "Experiment Overview: Free Trial Screener\n",
    "\n",
    "At the time of this experiment, Udacity courses currently have two options on the course overview page: \"start free trial\", and \"access course materials\". If the student clicks \"start free trial\", they will be asked to enter their credit card information, and then they will be enrolled in a free trial for the paid version of the course. After 14 days, they will automatically be charged unless they cancel first. If the student clicks \"access course materials\", they will be able to view the videos and take the quizzes for free, but they will not receive coaching support or a verified certificate, and they will not submit their final project for feedback.\n",
    "\n",
    "In the experiment, Udacity tested a change where if the student clicked \"start free trial\", they were asked how much time they had available to devote to the course. If the student indicated 5 or more hours per week, they would be taken through the checkout process as usual. If they indicated fewer than 5 hours per week, a message would appear indicating that Udacity courses usually require a greater time commitment for successful completion, and suggesting that the student might like to access the course materials for free. At this point, the student would have the option to continue enrolling in the free trial, or access the course materials for free instead. This screenshot shows what the experiment looks like.\n",
    "\n",
    "***The hypothesis was that this might set clearer expectations for students upfront, thus reducing the number of frustrated students who left the free trial because they didn't have enough time—without significantly reducing the number of students to continue past the free trial and eventually complete the course.*** If this hypothesis held true, Udacity could improve the overall student experience and improve coaches' capacity to support students who are likely to complete the course.\n",
    "\n",
    "***The unit of diversion is a cookie***, although if the student enrolls in the free trial, they are tracked by user-id from that point forward. The same user-id cannot enroll in the free trial twice. For users that do not enroll, their user-id is not tracked in the experiment, even if they were signed in when they visited the course overview page.\n",
    "\n"
   ]
  },
  {
   "cell_type": "markdown",
   "id": "56d14810",
   "metadata": {},
   "source": [
    "## 2. 3. Metric Choice: choosing invariant & evaluation Metrics\n",
    "\n",
    "Which of the following metrics would you choose to measure for this experiment and why? \n",
    "\n",
    "For each metric you choose, indicate whether you would use it as an invariant metric or an evaluation metric. The practical significance boundary for each metric, that is, the difference that would have to be observed before that was a meaningful change for the business, is given in parentheses. All practical significance boundaries are given as absolute changes.\n",
    "\n",
    "Any place \"unique cookies\" are mentioned, the uniqueness is determined by day. (That is, the same cookie visiting on different days would be counted twice.) User-ids are automatically unique since the site does not allow the same user-id to enroll twice.\n",
    "\n",
    "•\t***Number of cookies***: That is, number of unique cookies to view the course overview page. (dmin=3000)\n",
    "\n",
    "•\t***Number of user-ids***: That is, number of users who enroll in the free trial. (dmin=50)\n",
    "\n",
    "•\t***Number of clicks***: That is, number of unique cookies to click the \"Start free trial\" button (which happens before the free trial screener is trigger). (dmin=240)\n",
    "\n",
    "•\t***Click-through-probability***: That is, number of unique cookies to click the \"Start free trial\" button divided by number of unique cookies to view the course overview page. (dmin=0.01)\n",
    "\n",
    "•\t***Gross conversion***: That is, number of use\n",
    "r-ids to complete checkout and enroll in the free trial divided by number of unique cookies to click the \"Start free trial\" button. (dmin= 0.01)\n",
    "\n",
    "•\t***Retention***: That is, number of user-ids to remain enrolled past the 14-day boundary (and thus make at least one payment) divided by number of user-ids to complete checkout. (dmin=0.01)\n",
    "\n",
    "•\t***Net conversion***: That is, number of user-ids to remain enrolled past the 14-day boundary (and thus make at least one payment) divided by the number of unique cookies to click the \"Start free trial\" button. (dmin= 0.0075)\n",
    "\n",
    "\n",
    "You should also decide now what results you will be looking for in order to launch the experiment. Would a change in any one of your evaluation metrics be sufficient? Would you want to see multiple metrics all move or not move at the same time in order to launch? This decision will inform your choices while designing the experiment."
   ]
  },
  {
   "cell_type": "code",
   "execution_count": 21,
   "id": "136739d8",
   "metadata": {},
   "outputs": [
    {
     "data": {
      "text/html": [
       "<table>\n",
       "<thead><tr><th scope=col>Metric</th><th scope=col>Invariant</th><th scope=col>Evaluation</th></tr></thead>\n",
       "<tbody>\n",
       "\t<tr><td>Number_of_Cookies        </td><td>1                        </td><td>0                        </td></tr>\n",
       "\t<tr><td>Number_of_user_ids       </td><td>0                        </td><td>0                        </td></tr>\n",
       "\t<tr><td>Number_of_Clicks         </td><td>1                        </td><td>0                        </td></tr>\n",
       "\t<tr><td>Click-through-probability</td><td>0                        </td><td>0                        </td></tr>\n",
       "\t<tr><td>Gross conversion         </td><td>0                        </td><td>1                        </td></tr>\n",
       "\t<tr><td>Retention                </td><td>0                        </td><td>1                        </td></tr>\n",
       "\t<tr><td>Net_conversion           </td><td>0                        </td><td>1                        </td></tr>\n",
       "</tbody>\n",
       "</table>\n"
      ],
      "text/latex": [
       "\\begin{tabular}{r|lll}\n",
       " Metric & Invariant & Evaluation\\\\\n",
       "\\hline\n",
       "\t Number\\_of\\_Cookies         & 1                             & 0                            \\\\\n",
       "\t Number\\_of\\_user\\_ids        & 0                               & 0                              \\\\\n",
       "\t Number\\_of\\_Clicks          & 1                             & 0                            \\\\\n",
       "\t Click-through-probability & 0                         & 0                        \\\\\n",
       "\t Gross conversion          & 0                         & 1                        \\\\\n",
       "\t Retention                 & 0                         & 1                        \\\\\n",
       "\t Net\\_conversion            & 0                           & 1                          \\\\\n",
       "\\end{tabular}\n"
      ],
      "text/markdown": [
       "\n",
       "| Metric | Invariant | Evaluation |\n",
       "|---|---|---|\n",
       "| Number_of_Cookies         | 1                         | 0                         |\n",
       "| Number_of_user_ids        | 0                         | 0                         |\n",
       "| Number_of_Clicks          | 1                         | 0                         |\n",
       "| Click-through-probability | 0                         | 0                         |\n",
       "| Gross conversion          | 0                         | 1                         |\n",
       "| Retention                 | 0                         | 1                         |\n",
       "| Net_conversion            | 0                         | 1                         |\n",
       "\n"
      ],
      "text/plain": [
       "  Metric                    Invariant Evaluation\n",
       "1 Number_of_Cookies         1         0         \n",
       "2 Number_of_user_ids        0         0         \n",
       "3 Number_of_Clicks          1         0         \n",
       "4 Click-through-probability 0         0         \n",
       "5 Gross conversion          0         1         \n",
       "6 Retention                 0         1         \n",
       "7 Net_conversion            0         1         "
      ]
     },
     "metadata": {},
     "output_type": "display_data"
    }
   ],
   "source": [
    "library(data.table)\n",
    "metric = data.table(Metric = c('Number_of_Cookies', 'Number_of_user_ids',\n",
    "                              'Number_of_Clicks', 'Click-through-probability',\n",
    "                               'Gross conversion',\n",
    "                              'Retention', 'Net_conversion'),\n",
    "                    Invariant=c(1,0,1,0,0,0,0),                    \n",
    "                    Evaluation=c(0,0,0,0,1,1,1))\n",
    "metric"
   ]
  },
  {
   "cell_type": "markdown",
   "id": "000e677f",
   "metadata": {},
   "source": [
    "\n",
    "# 4. Calculating S.D.\n",
    "\n",
    "For each metric you selected as an evaluation metric, estimate its standard deviation analytically. Do you expect the analytic estimates to be accurate? That is, for which metrics, if any, would you want to collect an empirical estimate of the variability if you had time?\n",
    "\n",
    "Make sure you figure out how many units of analysis will correspond to 5000 pageviews for each metric."
   ]
  },
  {
   "cell_type": "code",
   "execution_count": 22,
   "id": "bc61c72b",
   "metadata": {},
   "outputs": [
    {
     "data": {
      "text/html": [
       "<table>\n",
       "<thead><tr><th scope=col>inputs</th><th scope=col>Metrics</th><th scope=col>value</th></tr></thead>\n",
       "<tbody>\n",
       "\t<tr><td>Unique cookies to view course overview page per day</td><td>pageviews                                          </td><td>4.000000e+04                                       </td></tr>\n",
       "\t<tr><td>Unique cookies to click \"Start free trial\" per day </td><td>clicks                                             </td><td>3.200000e+03                                       </td></tr>\n",
       "\t<tr><td>Enrollments per day                                </td><td>payments                                           </td><td>6.600000e+02                                       </td></tr>\n",
       "\t<tr><td>Click-through-probability on \"Start free trial\"    </td><td>CTR                                                </td><td>8.000000e-02                                       </td></tr>\n",
       "\t<tr><td>Probability of enrolling, given click              </td><td>Gross conversion                                   </td><td>2.062500e-01                                       </td></tr>\n",
       "\t<tr><td>Probability of payment, given enroll               </td><td>Retention                                          </td><td>5.300000e-01                                       </td></tr>\n",
       "\t<tr><td>Probability of payment, given click                </td><td>Net conversion                                     </td><td>1.093125e-01                                       </td></tr>\n",
       "</tbody>\n",
       "</table>\n"
      ],
      "text/latex": [
       "\\begin{tabular}{r|lll}\n",
       " inputs & Metrics & value\\\\\n",
       "\\hline\n",
       "\t Unique cookies to view course overview page per day & pageviews                                           & 4.000000e+04                                       \\\\\n",
       "\t Unique cookies to click \"Start free trial\" per day  & clicks                                              & 3.200000e+03                                       \\\\\n",
       "\t Enrollments per day                                 & payments                                            & 6.600000e+02                                       \\\\\n",
       "\t Click-through-probability on \"Start free trial\"     & CTR                                                 & 8.000000e-02                                       \\\\\n",
       "\t Probability of enrolling, given click               & Gross conversion                                    & 2.062500e-01                                       \\\\\n",
       "\t Probability of payment, given enroll                & Retention                                           & 5.300000e-01                                       \\\\\n",
       "\t Probability of payment, given click                 & Net conversion                                      & 1.093125e-01                                       \\\\\n",
       "\\end{tabular}\n"
      ],
      "text/markdown": [
       "\n",
       "| inputs | Metrics | value |\n",
       "|---|---|---|\n",
       "| Unique cookies to view course overview page per day | pageviews                                           | 4.000000e+04                                        |\n",
       "| Unique cookies to click \"Start free trial\" per day  | clicks                                              | 3.200000e+03                                        |\n",
       "| Enrollments per day                                 | payments                                            | 6.600000e+02                                        |\n",
       "| Click-through-probability on \"Start free trial\"     | CTR                                                 | 8.000000e-02                                        |\n",
       "| Probability of enrolling, given click               | Gross conversion                                    | 2.062500e-01                                        |\n",
       "| Probability of payment, given enroll                | Retention                                           | 5.300000e-01                                        |\n",
       "| Probability of payment, given click                 | Net conversion                                      | 1.093125e-01                                        |\n",
       "\n"
      ],
      "text/plain": [
       "  inputs                                              Metrics         \n",
       "1 Unique cookies to view course overview page per day pageviews       \n",
       "2 Unique cookies to click \"Start free trial\" per day  clicks          \n",
       "3 Enrollments per day                                 payments        \n",
       "4 Click-through-probability on \"Start free trial\"     CTR             \n",
       "5 Probability of enrolling, given click               Gross conversion\n",
       "6 Probability of payment, given enroll                Retention       \n",
       "7 Probability of payment, given click                 Net conversion  \n",
       "  value       \n",
       "1 4.000000e+04\n",
       "2 3.200000e+03\n",
       "3 6.600000e+02\n",
       "4 8.000000e-02\n",
       "5 2.062500e-01\n",
       "6 5.300000e-01\n",
       "7 1.093125e-01"
      ]
     },
     "metadata": {},
     "output_type": "display_data"
    }
   ],
   "source": [
    "base_values = data.table(\n",
    "    inputs=c('Unique cookies to view course overview page per day',\n",
    "             'Unique cookies to click \"Start free trial\" per day',\n",
    "             'Enrollments per day',\n",
    "             'Click-through-probability on \"Start free trial\"',\n",
    "             'Probability of enrolling, given click',\n",
    "             'Probability of payment, given enroll',\n",
    "             'Probability of payment, given click'),\n",
    "    Metrics=c('pageviews', 'clicks', 'payments', 'CTR', 'Gross conversion','Retention','Net conversion'),\n",
    "    value=c(40000,3200,660,0.08,0.20625,0.53,0.1093125)    \n",
    ")\n",
    "base_values"
   ]
  },
  {
   "cell_type": "code",
   "execution_count": 23,
   "id": "efeae467",
   "metadata": {},
   "outputs": [
    {
     "data": {
      "text/html": [
       "<table>\n",
       "<thead><tr><th scope=col>inputs</th><th scope=col>Metrics</th><th scope=col>value</th><th scope=col>SD</th></tr></thead>\n",
       "<tbody>\n",
       "\t<tr><td>Unique cookies to view course overview page per day</td><td>pageviews                                          </td><td>4.000000e+04                                       </td><td>        NA                                         </td></tr>\n",
       "\t<tr><td>Unique cookies to click \"Start free trial\" per day </td><td>clicks                                             </td><td>3.200000e+03                                       </td><td>        NA                                         </td></tr>\n",
       "\t<tr><td>Enrollments per day                                </td><td>payments                                           </td><td>6.600000e+02                                       </td><td>        NA                                         </td></tr>\n",
       "\t<tr><td>Click-through-probability on \"Start free trial\"    </td><td>CTR                                                </td><td>8.000000e-02                                       </td><td>        NA                                         </td></tr>\n",
       "\t<tr><td>Probability of enrolling, given click              </td><td>Gross conversion                                   </td><td>2.062500e-01                                       </td><td>0.02023060                                         </td></tr>\n",
       "\t<tr><td>Probability of payment, given enroll               </td><td>Retention                                          </td><td>5.300000e-01                                       </td><td>0.05494901                                         </td></tr>\n",
       "\t<tr><td>Probability of payment, given click                </td><td>Net conversion                                     </td><td>1.093125e-01                                       </td><td>0.01560154                                         </td></tr>\n",
       "</tbody>\n",
       "</table>\n"
      ],
      "text/latex": [
       "\\begin{tabular}{r|llll}\n",
       " inputs & Metrics & value & SD\\\\\n",
       "\\hline\n",
       "\t Unique cookies to view course overview page per day & pageviews                                           & 4.000000e+04                                        &         NA                                         \\\\\n",
       "\t Unique cookies to click \"Start free trial\" per day  & clicks                                              & 3.200000e+03                                        &         NA                                         \\\\\n",
       "\t Enrollments per day                                 & payments                                            & 6.600000e+02                                        &         NA                                         \\\\\n",
       "\t Click-through-probability on \"Start free trial\"     & CTR                                                 & 8.000000e-02                                        &         NA                                         \\\\\n",
       "\t Probability of enrolling, given click               & Gross conversion                                    & 2.062500e-01                                        & 0.02023060                                         \\\\\n",
       "\t Probability of payment, given enroll                & Retention                                           & 5.300000e-01                                        & 0.05494901                                         \\\\\n",
       "\t Probability of payment, given click                 & Net conversion                                      & 1.093125e-01                                        & 0.01560154                                         \\\\\n",
       "\\end{tabular}\n"
      ],
      "text/markdown": [
       "\n",
       "| inputs | Metrics | value | SD |\n",
       "|---|---|---|---|\n",
       "| Unique cookies to view course overview page per day | pageviews                                           | 4.000000e+04                                        |         NA                                          |\n",
       "| Unique cookies to click \"Start free trial\" per day  | clicks                                              | 3.200000e+03                                        |         NA                                          |\n",
       "| Enrollments per day                                 | payments                                            | 6.600000e+02                                        |         NA                                          |\n",
       "| Click-through-probability on \"Start free trial\"     | CTR                                                 | 8.000000e-02                                        |         NA                                          |\n",
       "| Probability of enrolling, given click               | Gross conversion                                    | 2.062500e-01                                        | 0.02023060                                          |\n",
       "| Probability of payment, given enroll                | Retention                                           | 5.300000e-01                                        | 0.05494901                                          |\n",
       "| Probability of payment, given click                 | Net conversion                                      | 1.093125e-01                                        | 0.01560154                                          |\n",
       "\n"
      ],
      "text/plain": [
       "  inputs                                              Metrics         \n",
       "1 Unique cookies to view course overview page per day pageviews       \n",
       "2 Unique cookies to click \"Start free trial\" per day  clicks          \n",
       "3 Enrollments per day                                 payments        \n",
       "4 Click-through-probability on \"Start free trial\"     CTR             \n",
       "5 Probability of enrolling, given click               Gross conversion\n",
       "6 Probability of payment, given enroll                Retention       \n",
       "7 Probability of payment, given click                 Net conversion  \n",
       "  value        SD        \n",
       "1 4.000000e+04         NA\n",
       "2 3.200000e+03         NA\n",
       "3 6.600000e+02         NA\n",
       "4 8.000000e-02         NA\n",
       "5 2.062500e-01 0.02023060\n",
       "6 5.300000e-01 0.05494901\n",
       "7 1.093125e-01 0.01560154"
      ]
     },
     "metadata": {},
     "output_type": "display_data"
    }
   ],
   "source": [
    "# S.D = sqrt(p_hat * (1-p_hat)/N)\n",
    "n_pageviews = 5000\n",
    "\n",
    "base_values[Metrics=='Gross conversion',\n",
    "            SD:=sqrt(value * (1-value) /(n_pageviews * 3200/40000))]\n",
    "\n",
    "base_values[Metrics=='Retention',\n",
    "            SD:=sqrt(value * (1-value) /(n_pageviews * 660/40000))]\n",
    "\n",
    "base_values[Metrics=='Net conversion',\n",
    "            SD:=sqrt(value * (1-value) /(n_pageviews * 3200/40000))]\n",
    "base_values"
   ]
  },
  {
   "cell_type": "markdown",
   "id": "fa936378",
   "metadata": {},
   "source": [
    "# 5. Calculating # of Pageviews\n",
    "\n",
    "Will you use the Bonferroni correction in  your analkysis phase? No"
   ]
  },
  {
   "cell_type": "markdown",
   "id": "127d4b85",
   "metadata": {},
   "source": [
    "## Sizing\n",
    "\n",
    "Using the analytic estimates of variance, how many pageviews total (across both groups) would you need to collect to adequately power the experiment? \n",
    "\n",
    "Use an alpha of 0.05 and a beta of 0.2. Make sure you have enough power for each metric.\n",
    "\n",
    "### sample size formula \n",
    "\n",
    "https://www.evanmiller.org/ab-testing/sample-size.html#!20;80;5;5;0\n",
    "\n",
    "For $H_O: p1=p2$, $H_a: |p_1-p_2|= \\Delta$. With significance level $\\alpha$ and power $1-\\beta$, \n",
    "$$n=\\frac{(z_{1-\\alpha/2}  \\sqrt{2 \\hat{p} (1-\\hat{p})}+\n",
    "z_{1-\\beta}\\sqrt{p_1(1-p_1)p_2(1-p_2)}  )^2}{|p_2 - p_1|^2}$$\n",
    "where $\\hat{p}=(p_1+p_2)/2$.\n",
    "\n",
    "when not even size between test/control, $n_2 = k*n_1$ :\n",
    "$$n_1= \\frac{(\\sqrt{\\hat{p}(1-\\hat{p}) (1+1/k)} z_{1-\\alpha/2} \n",
    "+ \\sqrt{p_1 (1-p_1) + \\frac{p_2(1-p_2)}{k}} z_{1-\\beta})^2}{ \\Delta ^2}$$"
   ]
  },
  {
   "cell_type": "code",
   "execution_count": 24,
   "id": "abe2d535",
   "metadata": {},
   "outputs": [
    {
     "data": {
      "text/html": [
       "<table>\n",
       "<thead><tr><th scope=col>inputs</th><th scope=col>Metrics</th><th scope=col>value</th><th scope=col>SD</th><th scope=col>d_min</th></tr></thead>\n",
       "<tbody>\n",
       "\t<tr><td>Unique cookies to view course overview page per day</td><td>pageviews                                          </td><td>4.000000e+04                                       </td><td>        NA                                         </td><td>3.0e+03                                            </td></tr>\n",
       "\t<tr><td>Unique cookies to click \"Start free trial\" per day </td><td>clicks                                             </td><td>3.200000e+03                                       </td><td>        NA                                         </td><td>2.4e+02                                            </td></tr>\n",
       "\t<tr><td>Enrollments per day                                </td><td>payments                                           </td><td>6.600000e+02                                       </td><td>        NA                                         </td><td>5.0e+01                                            </td></tr>\n",
       "\t<tr><td>Click-through-probability on \"Start free trial\"    </td><td>CTR                                                </td><td>8.000000e-02                                       </td><td>        NA                                         </td><td>1.0e-02                                            </td></tr>\n",
       "\t<tr><td>Probability of enrolling, given click              </td><td>Gross conversion                                   </td><td>2.062500e-01                                       </td><td>0.02023060                                         </td><td>1.0e-02                                            </td></tr>\n",
       "\t<tr><td>Probability of payment, given enroll               </td><td>Retention                                          </td><td>5.300000e-01                                       </td><td>0.05494901                                         </td><td>1.0e-02                                            </td></tr>\n",
       "\t<tr><td>Probability of payment, given click                </td><td>Net conversion                                     </td><td>1.093125e-01                                       </td><td>0.01560154                                         </td><td>7.5e-03                                            </td></tr>\n",
       "</tbody>\n",
       "</table>\n"
      ],
      "text/latex": [
       "\\begin{tabular}{r|lllll}\n",
       " inputs & Metrics & value & SD & d\\_min\\\\\n",
       "\\hline\n",
       "\t Unique cookies to view course overview page per day & pageviews                                           & 4.000000e+04                                        &         NA                                          & 3.0e+03                                            \\\\\n",
       "\t Unique cookies to click \"Start free trial\" per day  & clicks                                              & 3.200000e+03                                        &         NA                                          & 2.4e+02                                            \\\\\n",
       "\t Enrollments per day                                 & payments                                            & 6.600000e+02                                        &         NA                                          & 5.0e+01                                            \\\\\n",
       "\t Click-through-probability on \"Start free trial\"     & CTR                                                 & 8.000000e-02                                        &         NA                                          & 1.0e-02                                            \\\\\n",
       "\t Probability of enrolling, given click               & Gross conversion                                    & 2.062500e-01                                        & 0.02023060                                          & 1.0e-02                                            \\\\\n",
       "\t Probability of payment, given enroll                & Retention                                           & 5.300000e-01                                        & 0.05494901                                          & 1.0e-02                                            \\\\\n",
       "\t Probability of payment, given click                 & Net conversion                                      & 1.093125e-01                                        & 0.01560154                                          & 7.5e-03                                            \\\\\n",
       "\\end{tabular}\n"
      ],
      "text/markdown": [
       "\n",
       "| inputs | Metrics | value | SD | d_min |\n",
       "|---|---|---|---|---|\n",
       "| Unique cookies to view course overview page per day | pageviews                                           | 4.000000e+04                                        |         NA                                          | 3.0e+03                                             |\n",
       "| Unique cookies to click \"Start free trial\" per day  | clicks                                              | 3.200000e+03                                        |         NA                                          | 2.4e+02                                             |\n",
       "| Enrollments per day                                 | payments                                            | 6.600000e+02                                        |         NA                                          | 5.0e+01                                             |\n",
       "| Click-through-probability on \"Start free trial\"     | CTR                                                 | 8.000000e-02                                        |         NA                                          | 1.0e-02                                             |\n",
       "| Probability of enrolling, given click               | Gross conversion                                    | 2.062500e-01                                        | 0.02023060                                          | 1.0e-02                                             |\n",
       "| Probability of payment, given enroll                | Retention                                           | 5.300000e-01                                        | 0.05494901                                          | 1.0e-02                                             |\n",
       "| Probability of payment, given click                 | Net conversion                                      | 1.093125e-01                                        | 0.01560154                                          | 7.5e-03                                             |\n",
       "\n"
      ],
      "text/plain": [
       "  inputs                                              Metrics         \n",
       "1 Unique cookies to view course overview page per day pageviews       \n",
       "2 Unique cookies to click \"Start free trial\" per day  clicks          \n",
       "3 Enrollments per day                                 payments        \n",
       "4 Click-through-probability on \"Start free trial\"     CTR             \n",
       "5 Probability of enrolling, given click               Gross conversion\n",
       "6 Probability of payment, given enroll                Retention       \n",
       "7 Probability of payment, given click                 Net conversion  \n",
       "  value        SD         d_min  \n",
       "1 4.000000e+04         NA 3.0e+03\n",
       "2 3.200000e+03         NA 2.4e+02\n",
       "3 6.600000e+02         NA 5.0e+01\n",
       "4 8.000000e-02         NA 1.0e-02\n",
       "5 2.062500e-01 0.02023060 1.0e-02\n",
       "6 5.300000e-01 0.05494901 1.0e-02\n",
       "7 1.093125e-01 0.01560154 7.5e-03"
      ]
     },
     "metadata": {},
     "output_type": "display_data"
    }
   ],
   "source": [
    "base_values = cbind(base_values,\n",
    "                   d_min = c(3000,240,50,0.01,0.01,0.01,0.0075))\n",
    "base_values"
   ]
  },
  {
   "cell_type": "code",
   "execution_count": 19,
   "id": "rotary-hudson",
   "metadata": {},
   "outputs": [
    {
     "data": {
      "text/plain": [
       "\n",
       "     Two-sample comparison of proportions power calculation \n",
       "\n",
       "              n = 26154.97\n",
       "             p1 = 0.20625\n",
       "             p2 = 0.21625\n",
       "      sig.level = 0.05\n",
       "          power = 0.8\n",
       "    alternative = two.sided\n",
       "\n",
       "NOTE: n is number in *each* group\n"
      ]
     },
     "metadata": {},
     "output_type": "display_data"
    },
    {
     "name": "stdout",
     "output_type": "stream",
     "text": [
      "Gross conversion size needed: 52310 \n",
      "Retention size needed: 78102 \n",
      "Net conversion size needed: 55968 \n"
     ]
    }
   ],
   "source": [
    "# Slightly different result from using R function vs webpage calculator\n",
    "power.prop.test(p1=0.20625, p2 = 0.20625+0.01, sig.level=0.05, power=0.8, alternative=\"two\")\n",
    "\n",
    "cat('Gross conversion size needed:', \n",
    "    2*round(power.prop.test(p1=0.20625, p2 = 0.21625, sig.level=0.05, power=0.8, alternative=\"two\")$n),\n",
    "   '\\n')\n",
    "cat('Retention size needed:', \n",
    "2*round(power.prop.test(p1=0.53, p2 = 0.53+0.01, sig.level=0.05, power=0.8, alternative=\"two\")$n),'\\n')\n",
    "cat('Net conversion size needed:', \n",
    "2*round(power.prop.test(p1=0.1093125, p2 = 0.1093125+0.0075, sig.level=0.05, power=0.8, alternative=\"two\")$n),'\\n')"
   ]
  },
  {
   "cell_type": "markdown",
   "id": "26532a25",
   "metadata": {},
   "source": [
    "# 6. Choosing Duration vs. Exposure\n",
    "\n",
    "How many pageviews are required? \n",
    "\n",
    "What percentage of Udacity's traffic would you divert to this experiment (assuming there were no other experiments you wanted to run simultaneously)? Is the change risky enough that you wouldn't want to run on all traffic?\n",
    "\n",
    "Given the percentage you chose, how long would the experiment take to run, using the analytic estimates of variance? If the answer is longer than a few weeks, then this is unreasonably long, and you should reconsider an earlier decision."
   ]
  },
  {
   "cell_type": "code",
   "execution_count": 32,
   "id": "responsible-claim",
   "metadata": {},
   "outputs": [
    {
     "name": "stdout",
     "output_type": "stream",
     "text": [
      "Need 4733455 pageviews."
     ]
    }
   ],
   "source": [
    "# Convert back to pageviews by ratio\n",
    "\n",
    "s1 = 52310 * (as.numeric(base_values[1,3])/as.numeric(base_values[2,3]))\n",
    "s2 = 78102 * (as.numeric(base_values[1,3])/as.numeric(base_values[3,3]))\n",
    "s3 = 55968 * (as.numeric(base_values[3,3])/as.numeric(base_values[2,3]))\n",
    "cat('Need', max(s1,s2,s3), 'pageviews.')"
   ]
  },
  {
   "cell_type": "code",
   "execution_count": 80,
   "id": "8156fe8d",
   "metadata": {},
   "outputs": [
    {
     "data": {
      "text/html": [
       "118"
      ],
      "text/latex": [
       "118"
      ],
      "text/markdown": [
       "118"
      ],
      "text/plain": [
       "[1] 118"
      ]
     },
     "metadata": {},
     "output_type": "display_data"
    },
    {
     "data": {
      "text/html": [
       "32.69375"
      ],
      "text/latex": [
       "32.69375"
      ],
      "text/markdown": [
       "32.69375"
      ],
      "text/plain": [
       "[1] 32.69375"
      ]
     },
     "metadata": {},
     "output_type": "display_data"
    }
   ],
   "source": [
    "# Answer: 100%\n",
    "round(4733455/as.numeric(base_values[1,3]))\n",
    "(1/0.5)* max(s1,s3)/as.numeric(base_values[1,3])"
   ]
  },
  {
   "cell_type": "markdown",
   "id": "egyptian-charlotte",
   "metadata": {},
   "source": [
    "118 days is obviously too long. If we eliminate retention, then it'll be 33 days if diverting 50% traffic. "
   ]
  },
  {
   "cell_type": "markdown",
   "id": "adebe305",
   "metadata": {},
   "source": [
    "# Analysis\n",
    "\n",
    "This data \"Final Project Results.xlsx\" contains the raw information needed to compute the above metrics, broken down day by day. Note that there are two sheets within the spreadsheet - one for the experiment group, and one for the control group.\n",
    "\n",
    "The meaning of each column is:\n",
    "* Pageviews: Number of unique cookies to view the course overview page that day.\n",
    "* Clicks: Number of unique cookies to click the course overview page that day.\n",
    "* Enrollments: Number of user-ids to enroll in the free trial that day.\n",
    "* Payments: Number of user-ids who who enrolled on that day to remain enrolled for 14 days and thus make a payment. (Note that the date for this column is the start date, that is, the date of enrollment, rather than the date of the payment. The payment happened 14 days later. Because of this, the enrollments and payments are tracked for 14 fewer days than the other columns.)\n",
    "\n"
   ]
  },
  {
   "cell_type": "code",
   "execution_count": 115,
   "id": "monthly-participant",
   "metadata": {},
   "outputs": [
    {
     "data": {
      "text/html": [
       "<table>\n",
       "<thead><tr><th></th><th scope=col>ctl_cnt</th><th scope=col>exp_cnt</th></tr></thead>\n",
       "<tbody>\n",
       "\t<tr><th scope=row>Pageviews</th><td>345543</td><td>344660</td></tr>\n",
       "\t<tr><th scope=row>Clicks</th><td> 28378</td><td> 28325</td></tr>\n",
       "\t<tr><th scope=row>Enrollments</th><td>  3785</td><td>  3423</td></tr>\n",
       "\t<tr><th scope=row>Payments</th><td>  2033</td><td>  1945</td></tr>\n",
       "</tbody>\n",
       "</table>\n"
      ],
      "text/latex": [
       "\\begin{tabular}{r|ll}\n",
       "  & ctl\\_cnt & exp\\_cnt\\\\\n",
       "\\hline\n",
       "\tPageviews & 345543 & 344660\\\\\n",
       "\tClicks &  28378 &  28325\\\\\n",
       "\tEnrollments &   3785 &   3423\\\\\n",
       "\tPayments &   2033 &   1945\\\\\n",
       "\\end{tabular}\n"
      ],
      "text/markdown": [
       "\n",
       "| <!--/--> | ctl_cnt | exp_cnt |\n",
       "|---|---|---|\n",
       "| Pageviews | 345543 | 344660 |\n",
       "| Clicks |  28378 |  28325 |\n",
       "| Enrollments |   3785 |   3423 |\n",
       "| Payments |   2033 |   1945 |\n",
       "\n"
      ],
      "text/plain": [
       "  ctl_cnt exp_cnt\n",
       "1 345543  344660 \n",
       "2  28378   28325 \n",
       "3   3785    3423 \n",
       "4   2033    1945 "
      ]
     },
     "metadata": {},
     "output_type": "display_data"
    }
   ],
   "source": [
    "Control = readxl::read_excel(\"Final Project Results.xlsx\", sheet=\"Control\")\n",
    "Experiment = readxl::read_excel(\"Final Project Results.xlsx\", sheet=\"Experiment\")\n",
    "\n",
    "ctl_cnt = sapply(Control[,2:5], function(x) sum(x, na.rm=T))\n",
    "exp_cnt = sapply(Experiment[,2:5], function(x) sum(x, na.rm=T))\n",
    "\n",
    "results = data.table(cbind(ctl_cnt, exp_cnt))\n",
    "rownames(results) = names(Control)[2:5]           \n",
    "results                 "
   ]
  },
  {
   "cell_type": "markdown",
   "id": "60e6ab17",
   "metadata": {},
   "source": [
    "# 7. Sanity Checks\n",
    "Start by checking whether your invariant metrics are equivalent between the two groups. \n",
    "\n",
    "If the invariant metric is a simple count that should be randomly split between the 2 groups, you can use a binomial test as demonstrated in Lesson 5. Otherwise, you will need to construct a confidence interval for a difference in proportions using a similar strategy as in Lesson 1, then check whether the difference between group values falls within that confidence level."
   ]
  },
  {
   "cell_type": "markdown",
   "id": "parliamentary-train",
   "metadata": {},
   "source": [
    "## Count Metrics"
   ]
  },
  {
   "cell_type": "code",
   "execution_count": 116,
   "id": "racial-fitting",
   "metadata": {},
   "outputs": [
    {
     "name": "stderr",
     "output_type": "stream",
     "text": [
      "Warning message in `[.data.table`(results, , `:=`(Total = ctl_cnt + exp_cnt, p = 0.5, :\n",
      "\"Invalid .internal.selfref detected and fixed by taking a (shallow) copy of the data.table so that := can add this new column by reference. At an earlier point, this data.table has been copied by R (or was created manually using structure() or similar). Avoid names<- and attr<- which in R currently (and oddly) may copy the whole data.table. Use set* syntax instead to avoid copying: ?set, ?setnames and ?setattr. If this message doesn't help, please report your use case to the data.table issue tracker so the root cause can be fixed or this message improved.\""
     ]
    },
    {
     "data": {
      "text/html": [
       "<table>\n",
       "<thead><tr><th></th><th scope=col>ctl_cnt</th><th scope=col>exp_cnt</th><th scope=col>Total</th><th scope=col>p</th><th scope=col>p_hat</th><th scope=col>d</th><th scope=col>S.E</th><th scope=col>m</th><th scope=col>CI_lower</th><th scope=col>CI_upper</th><th scope=col>Pass.Sanity</th></tr></thead>\n",
       "<tbody>\n",
       "\t<tr><th scope=row>Pageviews</th><td>345543       </td><td>344660       </td><td>690203       </td><td>0.5          </td><td>0.4993603    </td><td>-0.0012793338</td><td>0.0006018407 </td><td>0.001179608  </td><td>0.4988204    </td><td>0.5011796    </td><td> TRUE        </td></tr>\n",
       "\t<tr><th scope=row>Clicks</th><td> 28378       </td><td> 28325       </td><td> 56703       </td><td>0.5          </td><td>0.4995327    </td><td>-0.0009346948</td><td>0.0020997471 </td><td>0.004115504  </td><td>0.4958845    </td><td>0.5041155    </td><td> TRUE        </td></tr>\n",
       "\t<tr><th scope=row>Enrollments</th><td>  3785       </td><td>  3423       </td><td>  7208       </td><td>0.5          </td><td>0.4748890    </td><td>-0.0502219756</td><td>0.0058892856 </td><td>0.011543000  </td><td>0.4884570    </td><td>0.5115430    </td><td>FALSE        </td></tr>\n",
       "\t<tr><th scope=row>Payments</th><td>  2033       </td><td>  1945       </td><td>  3978       </td><td>0.5          </td><td>0.4889392    </td><td>-0.0221216692</td><td>0.0079275249 </td><td>0.015537949  </td><td>0.4844621    </td><td>0.5155379    </td><td> TRUE        </td></tr>\n",
       "</tbody>\n",
       "</table>\n"
      ],
      "text/latex": [
       "\\begin{tabular}{r|lllllllllll}\n",
       "  & ctl\\_cnt & exp\\_cnt & Total & p & p\\_hat & d & S.E & m & CI\\_lower & CI\\_upper & Pass.Sanity\\\\\n",
       "\\hline\n",
       "\tPageviews & 345543        & 344660        & 690203        & 0.5           & 0.4993603     & -0.0012793338 & 0.0006018407  & 0.001179608   & 0.4988204     & 0.5011796     &  TRUE        \\\\\n",
       "\tClicks &  28378        &  28325        &  56703        & 0.5           & 0.4995327     & -0.0009346948 & 0.0020997471  & 0.004115504   & 0.4958845     & 0.5041155     &  TRUE        \\\\\n",
       "\tEnrollments &   3785        &   3423        &   7208        & 0.5           & 0.4748890     & -0.0502219756 & 0.0058892856  & 0.011543000   & 0.4884570     & 0.5115430     & FALSE        \\\\\n",
       "\tPayments &   2033        &   1945        &   3978        & 0.5           & 0.4889392     & -0.0221216692 & 0.0079275249  & 0.015537949   & 0.4844621     & 0.5155379     &  TRUE        \\\\\n",
       "\\end{tabular}\n"
      ],
      "text/markdown": [
       "\n",
       "| <!--/--> | ctl_cnt | exp_cnt | Total | p | p_hat | d | S.E | m | CI_lower | CI_upper | Pass.Sanity |\n",
       "|---|---|---|---|---|---|---|---|---|---|---|---|\n",
       "| Pageviews | 345543        | 344660        | 690203        | 0.5           | 0.4993603     | -0.0012793338 | 0.0006018407  | 0.001179608   | 0.4988204     | 0.5011796     |  TRUE         |\n",
       "| Clicks |  28378        |  28325        |  56703        | 0.5           | 0.4995327     | -0.0009346948 | 0.0020997471  | 0.004115504   | 0.4958845     | 0.5041155     |  TRUE         |\n",
       "| Enrollments |   3785        |   3423        |   7208        | 0.5           | 0.4748890     | -0.0502219756 | 0.0058892856  | 0.011543000   | 0.4884570     | 0.5115430     | FALSE         |\n",
       "| Payments |   2033        |   1945        |   3978        | 0.5           | 0.4889392     | -0.0221216692 | 0.0079275249  | 0.015537949   | 0.4844621     | 0.5155379     |  TRUE         |\n",
       "\n"
      ],
      "text/plain": [
       "  ctl_cnt exp_cnt Total  p   p_hat     d             S.E          m          \n",
       "1 345543  344660  690203 0.5 0.4993603 -0.0012793338 0.0006018407 0.001179608\n",
       "2  28378   28325   56703 0.5 0.4995327 -0.0009346948 0.0020997471 0.004115504\n",
       "3   3785    3423    7208 0.5 0.4748890 -0.0502219756 0.0058892856 0.011543000\n",
       "4   2033    1945    3978 0.5 0.4889392 -0.0221216692 0.0079275249 0.015537949\n",
       "  CI_lower  CI_upper  Pass.Sanity\n",
       "1 0.4988204 0.5011796  TRUE      \n",
       "2 0.4958845 0.5041155  TRUE      \n",
       "3 0.4884570 0.5115430 FALSE      \n",
       "4 0.4844621 0.5155379  TRUE      "
      ]
     },
     "metadata": {},
     "output_type": "display_data"
    }
   ],
   "source": [
    "results[, `:=`(Total = ctl_cnt + exp_cnt,\n",
    "               p = 0.5,\n",
    "               p_hat = exp_cnt/(ctl_cnt + exp_cnt),\n",
    "               d = (exp_cnt-ctl_cnt)/(ctl_cnt + exp_cnt)\n",
    "              )]\n",
    "results[, S.E:=sqrt(p*(1-p)/Total)]\n",
    "results[, m:=1.96*S.E]\n",
    "results[, `:=`(CI_lower = p-m,\n",
    "               CI_upper = p+m)]\n",
    "results[, Pass.Sanity:=p_hat>=p-m & p_hat <= p+m]\n",
    "results"
   ]
  },
  {
   "cell_type": "markdown",
   "id": "saved-cliff",
   "metadata": {},
   "source": [
    "## CTR: click through probability (clicks/cookies)"
   ]
  },
  {
   "cell_type": "code",
   "execution_count": 123,
   "id": "addressed-director",
   "metadata": {},
   "outputs": [
    {
     "name": "stdout",
     "output_type": "stream",
     "text": [
      "0.08212581 0.08218244 C.I: [ 0.08126699 , 0.08309789 ],\n",
      "    passes: TRUE"
     ]
    }
   ],
   "source": [
    "phat_ctl = results[2,ctl_cnt]/results[1,ctl_cnt]\n",
    "phat_exp = results[2,exp_cnt]/results[1,exp_cnt]\n",
    "\n",
    "SE =sqrt(phat_ctl*(1-phat_ctl)/results[1,ctl_cnt])\n",
    "m = 1.96*SE\n",
    "lower = phat_exp-m\n",
    "upper = phat_exp+m\n",
    "cat(phat_ctl,phat_exp, 'C.I: [',lower,',', upper,'],\n",
    "    passes:',  phat_exp<upper & phat_exp> lower)"
   ]
  },
  {
   "cell_type": "markdown",
   "id": "acoustic-genealogy",
   "metadata": {},
   "source": [
    "If your sanity checks fail, look at the day by day data and see if you can offer any insight into what is causing the problem.\n",
    "\n",
    "Check for Practical and Statistical Significance\n",
    "Next, for your evaluation metrics, calculate a confidence interval for the difference between the experiment and control groups, and check whether each metric is statistically and/or practically significance. A metric is statistically significant if the confidence interval does not include 0 (that is, you can be confident there was a change), and it is practically significant if the confidence interval does not include the practical significance boundary (that is, you can be confident there is a change that matters to the business.)\n",
    "\n",
    "If you have chosen multiple evaluation metrics, you will need to decide whether to use the Bonferroni correction. When deciding, keep in mind the results you are looking for in order to launch the experiment. Will the fact that you have multiple metrics make those results more likely to occur by chance than the alpha level of 0.05?"
   ]
  },
  {
   "cell_type": "markdown",
   "id": "impressed-economy",
   "metadata": {},
   "source": [
    "# 8. Effect Size Tests"
   ]
  },
  {
   "cell_type": "code",
   "execution_count": 170,
   "id": "focal-medium",
   "metadata": {},
   "outputs": [
    {
     "data": {
      "text/html": [
       "<table>\n",
       "<thead><tr><th></th><th scope=col>ctl_cnt2</th><th scope=col>exp_cnt2</th><th scope=col>Total</th></tr></thead>\n",
       "<tbody>\n",
       "\t<tr><th scope=row>Pageviews</th><td>212163</td><td>211362</td><td>423525</td></tr>\n",
       "\t<tr><th scope=row>Clicks</th><td> 17293</td><td> 17260</td><td> 34553</td></tr>\n",
       "\t<tr><th scope=row>Enrollments</th><td>  3785</td><td>  3423</td><td>  7208</td></tr>\n",
       "\t<tr><th scope=row>Payments</th><td>  2033</td><td>  1945</td><td>  3978</td></tr>\n",
       "</tbody>\n",
       "</table>\n"
      ],
      "text/latex": [
       "\\begin{tabular}{r|lll}\n",
       "  & ctl\\_cnt2 & exp\\_cnt2 & Total\\\\\n",
       "\\hline\n",
       "\tPageviews & 212163 & 211362 & 423525\\\\\n",
       "\tClicks &  17293 &  17260 &  34553\\\\\n",
       "\tEnrollments &   3785 &   3423 &   7208\\\\\n",
       "\tPayments &   2033 &   1945 &   3978\\\\\n",
       "\\end{tabular}\n"
      ],
      "text/markdown": [
       "\n",
       "| <!--/--> | ctl_cnt2 | exp_cnt2 | Total |\n",
       "|---|---|---|---|\n",
       "| Pageviews | 212163 | 211362 | 423525 |\n",
       "| Clicks |  17293 |  17260 |  34553 |\n",
       "| Enrollments |   3785 |   3423 |   7208 |\n",
       "| Payments |   2033 |   1945 |   3978 |\n",
       "\n"
      ],
      "text/plain": [
       "  ctl_cnt2 exp_cnt2 Total \n",
       "1 212163   211362   423525\n",
       "2  17293    17260    34553\n",
       "3   3785     3423     7208\n",
       "4   2033     1945     3978"
      ]
     },
     "metadata": {},
     "output_type": "display_data"
    }
   ],
   "source": [
    "ctl_cnt2 = sapply(na.omit(Control[,2:5]), function(x) sum(x, na.rm=T))\n",
    "exp_cnt2 = sapply(na.omit(Experiment[,2:5]), function(x) sum(x, na.rm=T))\n",
    "\n",
    "results2 = data.table(cbind(ctl_cnt2, exp_cnt2))\n",
    "results2[, Total:=ctl_cnt2+exp_cnt2]         \n",
    "rownames(results2) = names(Control)[2:5]           \n",
    "\n",
    "results2"
   ]
  },
  {
   "cell_type": "markdown",
   "id": "nonprofit-reporter",
   "metadata": {},
   "source": [
    "##  Gross conversion: Probability of enrolling, given click"
   ]
  },
  {
   "cell_type": "code",
   "execution_count": 218,
   "id": "starting-camera",
   "metadata": {},
   "outputs": [
    {
     "name": "stdout",
     "output_type": "stream",
     "text": [
      "Gross conversion= 0.2086071 , Pooled S.E= 0.004371675 , observed difference= -0.02055487"
     ]
    },
    {
     "data": {
      "text/html": [
       "-0.0291233583354044"
      ],
      "text/latex": [
       "-0.0291233583354044"
      ],
      "text/markdown": [
       "-0.0291233583354044"
      ],
      "text/plain": [
       "[1] -0.02912336"
      ]
     },
     "metadata": {},
     "output_type": "display_data"
    },
    {
     "data": {
      "text/html": [
       "-0.0119863908253187"
      ],
      "text/latex": [
       "-0.0119863908253187"
      ],
      "text/markdown": [
       "-0.0119863908253187"
      ],
      "text/plain": [
       "[1] -0.01198639"
      ]
     },
     "metadata": {},
     "output_type": "display_data"
    },
    {
     "name": "stdout",
     "output_type": "stream",
     "text": [
      "\n",
      "Statistically significant (C.I. doesnot include 0): TRUE\n",
      "Practically significant (C.I. doesnot include d_min or -dmin): TRUE"
     ]
    }
   ],
   "source": [
    "\n",
    "d_min = 0.01\n",
    "\n",
    "gc_ctl = results2[3,ctl_cnt2]/results2[2,ctl_cnt2]\n",
    "gc_exp = results2[3,exp_cnt2]/results2[2,exp_cnt2]\n",
    "gc_pool = results2[3,Total]/results2[2,Total]\n",
    "\n",
    "SE_pool = sqrt(gc_pool*(1-gc_pool)*(1/results2[2,ctl_cnt2]+1/results2[2,exp_cnt2]))\n",
    "d_hat=gc_exp-gc_ctl\n",
    "\n",
    "cat('Gross conversion=', gc_pool, ', Pooled S.E=', SE_pool, ', observed difference=', d_hat)\n",
    "\n",
    "lb=d_hat -1.96*SE_pool\n",
    "ub=d_hat +1.96*SE_pool\n",
    "lb\n",
    "ub\n",
    "cat('\\nStatistically significant (C.I. doesnot include 0):', lb>0|ub<0)\n",
    "cat('\\nPractically significant (C.I. doesnot include d_min or -dmin):', (d_min<lb)|(d_min>ub))"
   ]
  },
  {
   "cell_type": "markdown",
   "id": "featured-studio",
   "metadata": {},
   "source": [
    "## Retention: Probability of payment, given enroll"
   ]
  },
  {
   "cell_type": "code",
   "execution_count": 219,
   "id": "noticed-xerox",
   "metadata": {},
   "outputs": [
    {
     "name": "stdout",
     "output_type": "stream",
     "text": [
      "Observed difference= 0.0310948 , C.I.=[ 0.008104436 , 0.05408517 ]\n",
      "\n",
      "Statistically significant (C.I. doesnot include 0): TRUE\n",
      "Practically significant (C.I. doesnot include d_min or -dmin): FALSE"
     ]
    }
   ],
   "source": [
    "r_ctl = results2[4,ctl_cnt2]/results2[3,ctl_cnt2]\n",
    "r_exp = results2[4,exp_cnt2]/results2[3,exp_cnt2]\n",
    "r_pool = results2[4,Total]/results2[3,Total]\n",
    "SE_pool = sqrt(r_pool*(1-r_pool)*(1/results2[3,ctl_cnt2]+1/results2[3,exp_cnt2]))\n",
    "d_hat=r_exp-r_ctl\n",
    "lb=d_hat -1.96*SE_pool\n",
    "ub=d_hat +1.96*SE_pool\n",
    "\n",
    "cat('Observed difference=', d_hat,   ', C.I.=[', lb, ',', ub,']\\n')\n",
    "\n",
    "cat('\\nStatistically significant (C.I. doesnot include 0):', lb>0|ub<0)\n",
    "cat('\\nPractically significant (C.I. doesnot include d_min or -dmin):', (d_min<lb)|(d_min>ub))"
   ]
  },
  {
   "cell_type": "markdown",
   "id": "featured-orbit",
   "metadata": {},
   "source": [
    "## Net conversion: Probability of payment, given click"
   ]
  },
  {
   "cell_type": "code",
   "execution_count": 221,
   "id": "static-printing",
   "metadata": {},
   "outputs": [
    {
     "name": "stdout",
     "output_type": "stream",
     "text": [
      "Observed difference= -0.004873723 , C.I.=[ -0.01160462 , 0.001857179 ]\n",
      "\n",
      "Statistically significant (C.I. doesnot include 0): FALSE\n",
      "Practically significant (C.I. doesnot include d_min or -dmin): FALSE"
     ]
    }
   ],
   "source": [
    "d_min = 0.0075\n",
    "\n",
    "nc_ctl = results2[4,ctl_cnt2]/results2[2,ctl_cnt2]\n",
    "nc_exp = results2[4,exp_cnt2]/results2[2,exp_cnt2]\n",
    "nc_pool = results2[4,Total]/results2[2,Total]\n",
    "SE_pool = sqrt(nc_pool*(1-nc_pool)*(1/results2[2,ctl_cnt2]+1/results2[2,exp_cnt2]))\n",
    "d_hat=nc_exp-nc_ctl\n",
    "lb=d_hat -1.96*SE_pool\n",
    "ub=d_hat +1.96*SE_pool\n",
    "\n",
    "cat('Observed difference=', d_hat,   ', C.I.=[', lb, ',', ub,']\\n')\n",
    "\n",
    "cat('\\nStatistically significant (C.I. doesnot include 0):', lb>0|ub<0)\n",
    "cat('\\nPractically significant (C.I. doesnot include d_min or -dmin):', ub-lb<d_min) # ??"
   ]
  },
  {
   "cell_type": "markdown",
   "id": "677fa9f2",
   "metadata": {},
   "source": [
    "# 9. Sign Tests\n",
    "For each evaluation metric, do a sign test using the day-by-day breakdown. If the sign test does not agree with the confidence interval for the difference, see if you can figure out why.\n",
    "\n",
    "Make a Recommendation\n",
    "Finally, make a recommendation. Would you launch this experiment, not launch it, dig deeper, run a follow-up experiment, or is it a judgment call? If you would dig deeper, explain what area you would investigate. If you would run follow-up experiments, briefIy describe that experiment. If it is a judgment call, explain what factors would be relevant to the decision.\n",
    "Follow-Up Experiment: How to Reduce Early Cancellations\n",
    "\n",
    "If you wanted to reduce the number of frustrated students who cancel early in the course, what experiment would you try? Give a brief description of the change you would make, what your hypothesis would be about the effect of the change, what metrics you would want to measure, and what unit of diversion you would use. Include an explanation of each of your choices.\n"
   ]
  },
  {
   "cell_type": "code",
   "execution_count": 256,
   "id": "5de06ead",
   "metadata": {},
   "outputs": [],
   "source": [
    "# Gross conversion\n",
    "gc = na.omit(data.table(cbind(gc_ctl =Control$Enrollments/Control$Clicks, gc_exp=Experiment$Enrollments/Experiment$Clicks)))\n",
    "gc[, d:= ifelse(gc_exp-gc_ctl>0, 1, 0)]"
   ]
  },
  {
   "cell_type": "code",
   "execution_count": 257,
   "id": "secret-cathedral",
   "metadata": {},
   "outputs": [
    {
     "data": {
      "text/plain": [
       "\n",
       "\tExact binomial test\n",
       "\n",
       "data:  sum(gc$d) and nrow(gc)\n",
       "number of successes = 4, number of trials = 23, p-value = 0.002599\n",
       "alternative hypothesis: true probability of success is not equal to 0.5\n",
       "95 percent confidence interval:\n",
       " 0.04950765 0.38781189\n",
       "sample estimates:\n",
       "probability of success \n",
       "              0.173913 \n"
      ]
     },
     "metadata": {},
     "output_type": "display_data"
    },
    {
     "name": "stdout",
     "output_type": "stream",
     "text": [
      "p value is statistically Significant: TRUE"
     ]
    }
   ],
   "source": [
    "alpha = 0.05\n",
    "binom.test(sum(gc$d), n=nrow(gc), p = 0.5)\n",
    "cat('p value is statistically Significant:', binom.test(sum(gc$d), n=nrow(gc), p = 0.5)$p.value<alpha)"
   ]
  },
  {
   "cell_type": "code",
   "execution_count": 259,
   "id": "visible-lightning",
   "metadata": {},
   "outputs": [
    {
     "data": {
      "text/plain": [
       "\n",
       "\tExact binomial test\n",
       "\n",
       "data:  sum(r$d) and nrow(r)\n",
       "number of successes = 10, number of trials = 23, p-value = 0.6776\n",
       "alternative hypothesis: true probability of success is not equal to 0.5\n",
       "95 percent confidence interval:\n",
       " 0.2319142 0.6550534\n",
       "sample estimates:\n",
       "probability of success \n",
       "             0.4347826 \n"
      ]
     },
     "metadata": {},
     "output_type": "display_data"
    },
    {
     "name": "stdout",
     "output_type": "stream",
     "text": [
      "p value is statistically Significant: FALSE"
     ]
    }
   ],
   "source": [
    "# Retention\n",
    "r = na.omit(data.table(cbind(r_exp =Control$Payments/Control$Enrollments, r_ctl=Experiment$Payments/Experiment$Enrollments)))\n",
    "r[, d:= ifelse(r_exp-r_ctl>0, 1, 0)]\n",
    "\n",
    "binom.test(sum(r$d), n=nrow(r), p = 0.5)\n",
    "cat('p value is statistically Significant:', binom.test(sum(r$d), n=nrow(r), p = 0.5)$p.value<alpha)"
   ]
  },
  {
   "cell_type": "code",
   "execution_count": 261,
   "id": "confidential-colon",
   "metadata": {},
   "outputs": [
    {
     "data": {
      "text/plain": [
       "\n",
       "\tExact binomial test\n",
       "\n",
       "data:  sum(nc$d) and nrow(nc)\n",
       "number of successes = 10, number of trials = 23, p-value = 0.6776\n",
       "alternative hypothesis: true probability of success is not equal to 0.5\n",
       "95 percent confidence interval:\n",
       " 0.2319142 0.6550534\n",
       "sample estimates:\n",
       "probability of success \n",
       "             0.4347826 \n"
      ]
     },
     "metadata": {},
     "output_type": "display_data"
    },
    {
     "name": "stdout",
     "output_type": "stream",
     "text": [
      "p value is statistically Significant: FALSE"
     ]
    }
   ],
   "source": [
    "# Net conversion\n",
    "nc = na.omit(data.table(cbind(nc_ctl =Control$Payments/Control$Clicks, nc_exp=Experiment$Payments/Experiment$Clicks)))\n",
    "nc[, d:= ifelse(nc_exp-nc_ctl>0, 1, 0)]\n",
    "\n",
    "binom.test(sum(nc$d), n=nrow(nc), p = 0.5)\n",
    "cat('p value is statistically Significant:', binom.test(sum(nc$d), n=nrow(nc), p = 0.5)$p.value<alpha)"
   ]
  },
  {
   "cell_type": "markdown",
   "id": "earned-portsmouth",
   "metadata": {},
   "source": [
    "Recomendation: do not launch"
   ]
  }
 ],
 "metadata": {
  "kernelspec": {
   "display_name": "R",
   "language": "R",
   "name": "ir"
  },
  "language_info": {
   "codemirror_mode": "r",
   "file_extension": ".r",
   "mimetype": "text/x-r-source",
   "name": "R",
   "pygments_lexer": "r",
   "version": "3.6.1"
  }
 },
 "nbformat": 4,
 "nbformat_minor": 5
}
